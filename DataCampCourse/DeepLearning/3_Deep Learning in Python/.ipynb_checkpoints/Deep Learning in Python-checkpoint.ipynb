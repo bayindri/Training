{
 "cells": [
  {
   "cell_type": "markdown",
   "metadata": {},
   "source": [
    "## Basics of deep learning and neural networks\n",
    "In this chapter, you'll become familiar with the fundamental concepts and terminology used in deep learning, and understand why deep learning techniques are so powerful today. You'll build simple neural networks yourself and generate predictions with them."
   ]
  },
  {
   "cell_type": "markdown",
   "metadata": {},
   "source": [
    "### Introduction to Deep Learning\n",
    "\n",
    "Notes:\n",
    "Say you are predicting no of banking transactions per customer from a dataset where the input variables are :\n",
    "- Age, Bank Balance, Retirement Status, and so on. \n",
    "\n",
    "For linear regression the equation would look like below: <br>\n",
    "``` no of transactions = x1 * Age + x2 * Bank Balance + x3 * Retirement status ```\n",
    "where x1, x2, x3 are the coefficients of the variables.\n",
    "<br> As is clear this doesnt take into consideration that there may be interactions between Age, Bank Balance and Retirement status, and how they affect banking activity.\n",
    "\n",
    "<strong>INTERACTIONS</strong>\n",
    "- Neural Networks account for interactions really well. \n",
    "- Deep learning uses especially powerful neural networks. As a result they have a number of applications across \n",
    "    - text\n",
    "    - images\n",
    "    - videos\n",
    "    - audio\n",
    "    - source code\n",
    "    \n",
    "<img src='./images/Deep Learning1.PNG' width=\"560\" height=\"315\">\n",
    "<img src='./images/Deep Learning2.PNG' width=\"560\" height=\"315\">\n",
    "<img src='./images/Deep Learning3.PNG' width=\"700\" height=\"500\">\n",
    "In above, Model 2 is more powerful becuase it accounts for more interactions between the variables to predict the final outcome."
   ]
  },
  {
   "cell_type": "markdown",
   "metadata": {},
   "source": [
    "### Forward Propagation\n",
    "<img src='./images/Deep Learning4.PNG' width=\"560\" height=\"315\">\n",
    "\n",
    "Lets say we are trying to predict banking transactions for a customer, who has 2 children and 3 accounts with the bank.\n",
    "We are using a neural network model with 1 hidden layer and 2 nodes.\n",
    "\n",
    "The value in node0 of hidden layer is as follows:\n",
    "```node0 = 2 * 1 + 3 * 1 = 5 ```\n",
    "The value in node1 of hidden layer is as follows:\n",
    "```node1 = 2 * -1 + 3 * 1 = 1 ```\n",
    "The value in output layer is as follows:\n",
    "```output = 5 * 2 + 1 * -1 = 9 ```\n",
    "\n",
    "Therefore final prediction from this model for this customer is 9 banking transactions.\n",
    "\n",
    "This kind of vector multiplication is known as 'dot product'. And becuase the calculations are starting from input later and propagating through the hidden layers to the output layer, its called 'Forward Propagation'.\n",
    "\n",
    "The values along the arrows are known as 'weights' and these weights greatly affect the accuracy of the outcome.\n",
    "Later in the chapter we will learn to optimize these weights to get to a more accurate model.\n",
    "\n",
    "In summary below is the process for forward propagation:\n",
    "<img src='./images/Deep Learning5.PNG' width=\"560\" height=\"315\">\n",
    "\n",
    "\n",
    "#### Coding the forward propagation algorithm\n",
    "In this exercise, you'll write code to do forward propagation (prediction) for your first neural network:\n",
    "<img src='./images/Deep Learning6.PNG' width=\"560\" height=\"315\">\n",
    "\n",
    "Each data point is a customer. The first input is how many accounts they have, and the second input is how many children they have. The model will predict how many transactions the user makes in the next year. You will use this data throughout the first 2 chapters of this course.\n",
    "\n",
    "The input data has been pre-loaded as ```input_data```, and the weights are available in a dictionary called ```weights```. The array of weights for the first node in the hidden layer are in ```weights['node_0']```, and the array of weights for the second node in the hidden layer are in ```weights['node_1']```.\n",
    "\n",
    "The weights feeding into the output node are available in ```weights['output']```."
   ]
  },
  {
   "cell_type": "code",
   "execution_count": 11,
   "metadata": {
    "ExecuteTime": {
     "end_time": "2018-12-24T00:11:52.778859Z",
     "start_time": "2018-12-24T00:11:52.771211Z"
    }
   },
   "outputs": [
    {
     "name": "stdout",
     "output_type": "stream",
     "text": [
      "-39\n"
     ]
    }
   ],
   "source": [
    "import numpy as np\n",
    "\n",
    "weights = {'node_0': np.array([2, 4]), 'node_1': np.array([ 4, -5]), 'output': np.array([2, 7])}\n",
    "input_data = np.array([3, 5])\n",
    "\n",
    "# Calculate node 0 value: node_0_value\n",
    "node_0_value = (input_data * weights['node_0']).sum()\n",
    "\n",
    "# Calculate node 1 value: node_1_value\n",
    "node_1_value = (input_data * weights['node_1']).sum()\n",
    "\n",
    "# Put node values into array: hidden_layer_outputs\n",
    "hidden_layer_outputs = np.array([node_0_value, node_1_value])\n",
    "\n",
    "# Calculate output: output\n",
    "output = (hidden_layer_outputs * weights['output']).sum()\n",
    "\n",
    "# Print output\n",
    "print(output)"
   ]
  },
  {
   "cell_type": "markdown",
   "metadata": {},
   "source": [
    "### Activation Functions\n",
    "\n",
    "So far we saw a ```dot product``` method for activation functions to calculate the output from hidden layers.\n",
    "But for neural networks to be really powerful we need something called ```Activation Functions```.\n",
    "\n",
    "```Activation Functions``` capture non-linearity patterns in the interactions between variables. If the variables within the data have non-linear relationships we will need to capture that through ```activation functions```. \n",
    "\n",
    "<img src='./images/Deep Learning7.PNG' width=\"560\" height=\"315\">\n",
    "\n",
    "For a long time ```tanh``` was used as an activation function. \n",
    "\n",
    "<img src='./images/Deep Learning9.PNG' width=\"560\" height=\"315\">\n",
    "\n",
    "But until recently ```ReLu or Rectified Linear Activation``` has been found to be extremely powerful.\n",
    "\n",
    "<img src='./images/Deep Learning8.PNG' width=\"560\" height=\"315\">\n",
    "\n",
    "#### The Rectified Linear Activation Function\n",
    "As Dan explained to you in the video, an \"activation function\" is a function applied at each node. It converts the node's input into some output.\n",
    "\n",
    "The rectified linear activation function (called ReLU) has been shown to lead to very high-performance networks. This function takes a single number as an input, returning 0 if the input is negative, and the input if the input is positive.\n",
    "\n",
    "Here are some examples:\n",
    "relu(3) = 3 \n",
    "relu(-3) = 0 "
   ]
  },
  {
   "cell_type": "code",
   "execution_count": 8,
   "metadata": {
    "ExecuteTime": {
     "end_time": "2018-12-23T19:14:56.242675Z",
     "start_time": "2018-12-23T19:14:56.234198Z"
    }
   },
   "outputs": [
    {
     "name": "stdout",
     "output_type": "stream",
     "text": [
      "168\n"
     ]
    }
   ],
   "source": [
    "weights = {'node_0': np.array([2, 4]), 'node_1': np.array([ 4, -5]), 'output': np.array([2, 7])}\n",
    "input_data = [np.array([3, 5]),np.array([1, -1]),np.array([0, 0]),np.array([8, 4])]\n",
    "\n",
    "def relu(input):\n",
    "    '''Define your relu activation function here'''\n",
    "    # Calculate the value for the output of the relu function: output\n",
    "    output = max(0, input)\n",
    "    \n",
    "    # Return the value just calculated\n",
    "    return(output)\n",
    "\n",
    "# Calculate node 0 value: node_0_output\n",
    "node_0_input = (input_data * weights['node_0']).sum()\n",
    "node_0_output = relu(node_0_input)\n",
    "\n",
    "# Calculate node 1 value: node_1_output\n",
    "node_1_input = (input_data * weights['node_1']).sum()\n",
    "node_1_output = relu(node_1_input)\n",
    "\n",
    "# Put node values into array: hidden_layer_outputs\n",
    "hidden_layer_outputs = np.array([node_0_output, node_1_output])\n",
    "\n",
    "# Calculate model output (do not apply relu)\n",
    "model_output = (hidden_layer_outputs * weights['output']).sum()\n",
    "\n",
    "# Print model output\n",
    "print(model_output)"
   ]
  },
  {
   "cell_type": "markdown",
   "metadata": {},
   "source": [
    "#### Applying the network to many observations/rows of data\n",
    "\n",
    "You'll now define a function called predict_with_network() which will generate predictions for multiple data observations, which are pre-loaded as input_data. As before, weights are also pre-loaded. In addition, the relu() function you defined in the previous exercise has been pre-loaded."
   ]
  },
  {
   "cell_type": "code",
   "execution_count": 7,
   "metadata": {
    "ExecuteTime": {
     "end_time": "2018-12-23T18:00:15.171906Z",
     "start_time": "2018-12-23T18:00:15.165009Z"
    }
   },
   "outputs": [
    {
     "name": "stdout",
     "output_type": "stream",
     "text": [
      "[52, 63, 0, 148]\n"
     ]
    }
   ],
   "source": [
    "# Define predict_with_network()\n",
    "def predict_with_network(input_data_row, weights):\n",
    "\n",
    "    # Calculate node 0 value\n",
    "    node_0_input = (input_data_row * weights['node_0']).sum()\n",
    "    node_0_output = relu(node_0_input)\n",
    "\n",
    "    # Calculate node 1 value\n",
    "    node_1_input = (input_data_row * weights['node_1']).sum()\n",
    "    node_1_output = relu(node_1_input)\n",
    "\n",
    "    # Put node values into array: hidden_layer_outputs\n",
    "    hidden_layer_outputs = np.array([node_0_output, node_1_output])\n",
    "    \n",
    "    # Calculate model output\n",
    "    input_to_final_layer = (hidden_layer_outputs * weights['output']).sum()\n",
    "    model_output = relu(input_to_final_layer)\n",
    "    \n",
    "    # Return model output\n",
    "    return(model_output)\n",
    "\n",
    "\n",
    "# Create empty list to store prediction results\n",
    "results = []\n",
    "for input_data_row in input_data:\n",
    "    # Append prediction to results\n",
    "    results.append(predict_with_network(input_data_row,weights))\n",
    "\n",
    "# Print results\n",
    "print(results)"
   ]
  },
  {
   "cell_type": "markdown",
   "metadata": {},
   "source": [
    "### Deeper Networks\n",
    "\n",
    "Difference between modern deep learning and traditional neural networks that didnt deliver these results is models with multiple neural networks.\n",
    "<img src='./images/Deep Learning10.PNG' width=\"560\" height=\"315\">\n",
    "<img src='./images/Deep Learning11.PNG' width=\"560\" height=\"315\">\n",
    "\n",
    "#### Representations are learned\n",
    "\n",
    "How are the weights that determine the features/interactions in Neural Networks created?\n",
    "The model training process sets them to optimize predictive accuracy.\n",
    "\n",
    "<img src='./images/Deep Learning12.PNG' width=\"560\" height=\"315\">\n",
    "\n",
    "#### Levels of representation\n",
    "\n",
    "Which layers of a model capture more complex or \"higher level\" interactions?\n",
    "The last layers capture the most complex interactions.\n",
    "\n",
    "#### Multi-layer neural networks\n",
    "\n",
    "In this exercise, you'll write code to do forward propagation for a neural network with 2 hidden layers. Each hidden layer has two nodes. The input data has been preloaded as ```input_data```. The nodes in the first hidden layer are called ```node_0_0``` and ```node_0_1```. Their weights are pre-loaded as ```weights['node_0_0']``` and ```weights['node_0_1']``` respectively.\n",
    "\n",
    "The nodes in the second hidden layer are called ```node_1_0``` and ```node_1_1```. Their weights are pre-loaded as ```weights['node_1_0']``` and ```weights['node_1_1']``` respectively.\n",
    "\n",
    "We then create a model output from the hidden nodes using weights pre-loaded as ```weights['output']```.\n",
    "<img src='./images/Deep Learning13.PNG' width=\"560\" height=\"315\">"
   ]
  },
  {
   "cell_type": "code",
   "execution_count": 11,
   "metadata": {
    "ExecuteTime": {
     "end_time": "2018-12-23T19:43:21.164209Z",
     "start_time": "2018-12-23T19:43:21.153679Z"
    }
   },
   "outputs": [
    {
     "name": "stdout",
     "output_type": "stream",
     "text": [
      "182\n"
     ]
    }
   ],
   "source": [
    "weights = {'node_0_0': np.array([2, 4]),\n",
    " 'node_0_1': np.array([ 4, -5]),\n",
    " 'node_1_0': np.array([-1,  2]),\n",
    " 'node_1_1': np.array([1, 2]),\n",
    " 'output': np.array([2, 7])}\n",
    "input_data = np.array([3, 5])\n",
    "def predict_with_network(input_data):\n",
    "    # Calculate node 0 in the first hidden layer\n",
    "    node_0_0_input = (input_data * weights['node_0_0']).sum()\n",
    "    node_0_0_output = relu(node_0_0_input)\n",
    "\n",
    "    # Calculate node 1 in the first hidden layer\n",
    "    node_0_1_input = (input_data * weights['node_0_1']).sum()\n",
    "    node_0_1_output = relu(node_0_1_input)\n",
    "\n",
    "    # Put node values into array: hidden_0_outputs\n",
    "    hidden_0_outputs = np.array([node_0_0_output, node_0_1_output])\n",
    "    \n",
    "    # Calculate node 0 in the second hidden layer\n",
    "    node_1_0_input = (hidden_0_outputs * weights['node_1_0']).sum()\n",
    "    node_1_0_output = relu(node_1_0_input)\n",
    "\n",
    "    # Calculate node 1 in the second hidden layer\n",
    "    node_1_1_input = (hidden_0_outputs * weights['node_1_1']).sum()\n",
    "    node_1_1_output = relu(node_1_1_input)\n",
    "\n",
    "    # Put node values into array: hidden_1_outputs\n",
    "    hidden_1_outputs = np.array([node_1_0_output, node_1_1_output])\n",
    "\n",
    "    # Calculate model output: model_output\n",
    "    model_output = (hidden_1_outputs * weights['output']).sum()\n",
    "    \n",
    "    # Return model_output\n",
    "    return(model_output)\n",
    "\n",
    "output = predict_with_network(input_data)\n",
    "print(output)\n"
   ]
  },
  {
   "cell_type": "markdown",
   "metadata": {},
   "source": [
    "## Optimizing a neural network with backward propagation\n",
    "Here, you'll learn how to optimize the predictions generated by your neural networks. You'll do this using a method called backward propagation, which is one of the most important techniques in deep learning. Understanding how it works will give you a strong foundation to build from in the second half of the course."
   ]
  },
  {
   "cell_type": "markdown",
   "metadata": {},
   "source": [
    "### The need for optimization\n",
    "\n",
    "The change in model weights can sway the accuracy of the model significantly. Therefore there is a great need to optimize the model weights. We should therefore use the set of model weights which produces the most accurate model or in other words the least model error.\n",
    "\n",
    "The model accuracy is determined by the difference between the predicted and actual value. \n",
    "When there are multiple points we need to use one measure to determine the quality of the model. And that is called the ```Loss Function```. One common loss function is the ```MSE or the Mean Squared Error```. \n",
    "\n",
    "<img src='./images/Deep Learning14.PNG' width=\"560\" height=\"315\">\n",
    "<img src='./images/Deep Learning15.PNG' width=\"560\" height=\"315\">\n",
    "<img src='./images/Deep Learning16.PNG' width=\"560\" height=\"315\">\n",
    "<img src='./images/Deep Learning17.PNG' width=\"560\" height=\"315\">\n",
    "<img src='./images/Deep Learning18.PNG' width=\"560\" height=\"315\">\n",
    "<img src='./images/Deep Learning19.PNG' width=\"560\" height=\"315\">\n",
    "<img src='./images/Deep Learning20.PNG' width=\"560\" height=\"315\">\n",
    "<img src='./images/Deep Learning21.PNG' width=\"560\" height=\"315\">\n",
    "\n",
    "#### Coding how weight changes affect accuracy\n",
    "\n",
    "Now you'll get to change weights in a real network and see how they affect model accuracy!\n",
    "\n",
    "Have a look at the following neural network: \n",
    "<img src='./images/Deep Learning22.PNG' width=\"560\" height=\"315\">\n",
    "Its weights have been pre-loaded as ```weights_0```. Your task in this exercise is to update a single weight in ```weights_0``` to create ```weights_1```, which gives a perfect prediction (in which the predicted value is equal to ```target_actual```: 3).\n",
    "\n",
    "Use a pen and paper if necessary to experiment with different combinations. You'll use the ```predict_with_network()``` function, which takes an array of data as the first argument, and weights as the second argument."
   ]
  },
  {
   "cell_type": "code",
   "execution_count": 24,
   "metadata": {
    "ExecuteTime": {
     "end_time": "2018-12-23T20:38:57.157673Z",
     "start_time": "2018-12-23T20:38:57.148761Z"
    }
   },
   "outputs": [
    {
     "name": "stdout",
     "output_type": "stream",
     "text": [
      "6\n",
      "0\n"
     ]
    }
   ],
   "source": [
    "# The data point you will make a prediction for\n",
    "input_data = np.array([0, 3])\n",
    "\n",
    "# Sample weights\n",
    "weights_0 = {'node_0': [2, 1],\n",
    "             'node_1': [1, 2],\n",
    "             'output': [1, 1]\n",
    "            }\n",
    "\n",
    "\n",
    "def predict_with_network(input_data_row, weights):\n",
    "\n",
    "    # Calculate node 0 value\n",
    "    node_0_input = (input_data_row * weights['node_0']).sum()\n",
    "    node_0_output = relu(node_0_input)\n",
    "\n",
    "    # Calculate node 1 value\n",
    "    node_1_input = (input_data_row * weights['node_1']).sum()\n",
    "    node_1_output = relu(node_1_input)\n",
    "\n",
    "    # Put node values into array: hidden_layer_outputs\n",
    "    hidden_layer_outputs = np.array([node_0_output, node_1_output])\n",
    "    \n",
    "    # Calculate model output\n",
    "    input_to_final_layer = (hidden_layer_outputs * weights['output']).sum()\n",
    "    model_output = relu(input_to_final_layer)\n",
    "    \n",
    "    # Return model output\n",
    "    return(model_output)\n",
    "\n",
    "# The actual target value, used to calculate the error\n",
    "target_actual = 3\n",
    "\n",
    "# Make prediction using original weights\n",
    "model_output_0 = predict_with_network(input_data, weights_0)\n",
    "\n",
    "# Calculate error: error_0\n",
    "error_0 = model_output_0 - target_actual\n",
    "\n",
    "# Create weights that cause the network to make perfect prediction (3): weights_1\n",
    "weights_1 = {'node_0': [2, 1],\n",
    "             'node_1': [1, 2],\n",
    "             'output': [1, 0]\n",
    "            }\n",
    "\n",
    "# Make prediction using new weights: model_output_1\n",
    "model_output_1 = predict_with_network(input_data, weights_1)\n",
    "\n",
    "# Calculate error: error_1\n",
    "error_1 = model_output_1 - target_actual\n",
    "\n",
    "# Print error_0 and error_1\n",
    "print(error_0)\n",
    "print(error_1)\n"
   ]
  },
  {
   "cell_type": "markdown",
   "metadata": {},
   "source": [
    "#### Scaling up to multiple data points\n",
    "\n",
    "You've seen how different weights will have different accuracies on a single prediction. But usually, you'll want to measure model accuracy on many points. You'll now write code to compare model accuracies for two different sets of weights, which have been stored as ```weights_0``` and ```weights_1```.\n",
    "\n",
    "```input_data``` is a list of arrays. Each item in that list contains the data to make a single prediction. ```target_actuals``` is a list of numbers. Each item in that list is the actual value we are trying to predict.\n",
    "\n",
    "In this exercise, you'll use the ```mean_squared_error()``` function from ```sklearn.metrics```. It takes the true values and the predicted values as arguments.\n",
    "\n",
    "You'll also use the preloaded ```predict_with_network()``` function, which takes an array of data as the first argument, and weights as the second argument."
   ]
  },
  {
   "cell_type": "code",
   "execution_count": 25,
   "metadata": {
    "ExecuteTime": {
     "end_time": "2018-12-23T20:39:02.612007Z",
     "start_time": "2018-12-23T20:39:02.603162Z"
    }
   },
   "outputs": [
    {
     "name": "stdout",
     "output_type": "stream",
     "text": [
      "[array([0, 3]), array([1, 2]), array([-1, -2]), array([4, 0])]\n",
      "Mean squared error with weights_0: 37.500000\n",
      "Mean squared error with weights_1: 7.750000\n"
     ]
    }
   ],
   "source": [
    "from sklearn.metrics import mean_squared_error\n",
    "\n",
    "target_actuals = [1, 3, 5, 7]\n",
    "input_data = [np.array([0, 3]), np.array([1, 2]), np.array([-1, -2]), np.array([4, 0])]\n",
    "# Create model_output_0 \n",
    "model_output_0 = []\n",
    "# Create model_output_1\n",
    "model_output_1 = []\n",
    "\n",
    "print(input_data)\n",
    "# Loop over input_data\n",
    "for row in input_data:\n",
    "    #print(row)\n",
    "    # Append prediction to model_output_0\n",
    "    model_output_0.append(predict_with_network(row,weights_0))\n",
    "    \n",
    "    # Append prediction to model_output_1\n",
    "    model_output_1.append(predict_with_network(row,weights_1))\n",
    "\n",
    "# Calculate the mean squared error for model_output_0: mse_0\n",
    "mse_0 = mean_squared_error(target_actuals,model_output_0 )\n",
    "\n",
    "# Calculate the mean squared error for model_output_1: mse_1\n",
    "mse_1 = mean_squared_error(target_actuals,model_output_1 )\n",
    "\n",
    "# Print mse_0 and mse_1\n",
    "print(\"Mean squared error with weights_0: %f\" %mse_0)\n",
    "print(\"Mean squared error with weights_1: %f\" %mse_1)\n"
   ]
  },
  {
   "cell_type": "markdown",
   "metadata": {},
   "source": [
    "### Gradient descent\n",
    "\n",
    "<img src='./images/Deep Learning23.PNG' width=\"560\" height=\"315\">\n",
    "<img src='./images/Deep Learning24.PNG' width=\"560\" height=\"315\">\n",
    "<img src='./images/Deep Learning25.PNG' width=\"560\" height=\"315\">\n",
    "<img src='./images/Deep Learning26.PNG' width=\"560\" height=\"315\">\n",
    "\n",
    "#### Calculating slopes\n",
    "\n",
    "You're now going to practice calculating slopes. When plotting the mean-squared error loss function against predictions, the slope is ```2 * x * (y-xb)```, or ```2 * input_data * error```. Note that ```x``` and ```b``` may have multiple numbers (```x``` is a vector for each data point, and ```b``` is a vector). In this case, the output will also be a vector, which is exactly what you want.\n",
    "\n",
    "You're ready to write the code to calculate this slope while using a single data point. You'll use pre-defined weights called ```weights``` as well as data for a single point called ```input_data```. The actual value of the target you want to predict is stored in ```target```."
   ]
  },
  {
   "cell_type": "code",
   "execution_count": 27,
   "metadata": {
    "ExecuteTime": {
     "end_time": "2018-12-23T22:20:46.446839Z",
     "start_time": "2018-12-23T22:20:46.441002Z"
    }
   },
   "outputs": [
    {
     "name": "stdout",
     "output_type": "stream",
     "text": [
      "[-14 -28 -42]\n"
     ]
    }
   ],
   "source": [
    "input_data = np.array([1,2,3])\n",
    "weights = np.array([0,2,1])\n",
    "target = 0\n",
    "# Calculate the predictions: preds\n",
    "preds = (input_data * weights ).sum()\n",
    "\n",
    "# Calculate the error: error\n",
    "error = target - preds\n",
    "\n",
    "# Calculate the slope: slope\n",
    "slope = 2 * input_data * error\n",
    "\n",
    "# Print the slope\n",
    "print(slope)"
   ]
  },
  {
   "cell_type": "markdown",
   "metadata": {},
   "source": [
    "#### Improving model weights\n",
    "\n",
    "Hurray! You've just calculated the slopes you need. Now it's time to use those slopes to improve your model. If you add the slopes to your weights, you will move in the right direction. However, it's possible to move too far in that direction. So you will want to take a small step in that direction first, using a lower learning rate, and verify that the model is improving.\n",
    "\n",
    "The weights have been pre-loaded as ```weights```, the actual value of the target as ```target```, and the input data as ```input_data```. The predictions from the initial weights are stored as ```preds```."
   ]
  },
  {
   "cell_type": "code",
   "execution_count": 28,
   "metadata": {
    "ExecuteTime": {
     "end_time": "2018-12-23T22:24:07.349849Z",
     "start_time": "2018-12-23T22:24:07.343855Z"
    }
   },
   "outputs": [
    {
     "name": "stdout",
     "output_type": "stream",
     "text": [
      "7\n",
      "5.04\n"
     ]
    }
   ],
   "source": [
    "# Set the learning rate: learning_rate\n",
    "learning_rate = 0.01\n",
    "\n",
    "# Calculate the predictions: preds\n",
    "preds = (weights * input_data).sum()\n",
    "\n",
    "# Calculate the error: error\n",
    "error = preds - target\n",
    "\n",
    "# Calculate the slope: slope\n",
    "slope = 2 * input_data * error\n",
    "\n",
    "# Update the weights: weights_updated\n",
    "weights_updated = weights - learning_rate * slope\n",
    "\n",
    "# Get updated predictions: preds_updated\n",
    "preds_updated = (weights_updated * input_data).sum()\n",
    "\n",
    "# Calculate updated error: error_updated\n",
    "error_updated = preds_updated - target\n",
    "\n",
    "# Print the original error\n",
    "print(error)\n",
    "\n",
    "# Print the updated error\n",
    "print(error_updated)\n"
   ]
  },
  {
   "cell_type": "markdown",
   "metadata": {},
   "source": [
    "#### Making multiple updates to weights\n",
    "\n",
    "You're now going to make multiple updates so you can dramatically improve your model weights, and see how the predictions improve with each update.\n",
    "\n",
    "To keep your code clean, there is a pre-loaded ```get_slope()``` function that takes ```input_data```, ```target```, and ```weights``` as arguments. There is also a ```get_mse()``` function that takes the same arguments. The ```input_data```, ```target```, and ```weights``` have been pre-loaded.\n",
    "\n",
    "This network does not have any hidden layers, and it goes directly from the input (with 3 nodes) to an output node. Note that ```weights``` is a single array.\n",
    "\n",
    "We have also pre-loaded ```matplotlib.pyplot```, and the error history will be plotted after you have done your gradient descent steps."
   ]
  },
  {
   "cell_type": "code",
   "execution_count": 41,
   "metadata": {
    "ExecuteTime": {
     "end_time": "2018-12-24T03:24:03.201662Z",
     "start_time": "2018-12-24T03:24:02.958210Z"
    }
   },
   "outputs": [
    {
     "ename": "TypeError",
     "evalue": "unsupported operand type(s) for *: 'dict' and 'int'",
     "output_type": "error",
     "traceback": [
      "\u001b[0;31m---------------------------------------------------------------------------\u001b[0m",
      "\u001b[0;31mTypeError\u001b[0m                                 Traceback (most recent call last)",
      "\u001b[0;32m<ipython-input-41-f887cbc522a9>\u001b[0m in \u001b[0;36m<module>\u001b[0;34m\u001b[0m\n\u001b[1;32m     24\u001b[0m \u001b[0;32mfor\u001b[0m \u001b[0mi\u001b[0m \u001b[0;32min\u001b[0m \u001b[0mrange\u001b[0m\u001b[0;34m(\u001b[0m\u001b[0mn_updates\u001b[0m\u001b[0;34m)\u001b[0m\u001b[0;34m:\u001b[0m\u001b[0;34m\u001b[0m\u001b[0m\n\u001b[1;32m     25\u001b[0m     \u001b[0;31m# Calculate the slope: slope\u001b[0m\u001b[0;34m\u001b[0m\u001b[0;34m\u001b[0m\u001b[0m\n\u001b[0;32m---> 26\u001b[0;31m     \u001b[0mslope\u001b[0m \u001b[0;34m=\u001b[0m \u001b[0mget_slope\u001b[0m\u001b[0;34m(\u001b[0m\u001b[0minput_data\u001b[0m\u001b[0;34m,\u001b[0m \u001b[0mtarget\u001b[0m\u001b[0;34m,\u001b[0m \u001b[0mweights\u001b[0m\u001b[0;34m)\u001b[0m\u001b[0;34m\u001b[0m\u001b[0m\n\u001b[0m\u001b[1;32m     27\u001b[0m \u001b[0;34m\u001b[0m\u001b[0m\n\u001b[1;32m     28\u001b[0m     \u001b[0;31m# Update the weights: weights\u001b[0m\u001b[0;34m\u001b[0m\u001b[0;34m\u001b[0m\u001b[0m\n",
      "\u001b[0;32m<ipython-input-41-f887cbc522a9>\u001b[0m in \u001b[0;36mget_slope\u001b[0;34m(input_data, target, weights)\u001b[0m\n\u001b[1;32m     13\u001b[0m \u001b[0;34m\u001b[0m\u001b[0m\n\u001b[1;32m     14\u001b[0m \u001b[0;32mdef\u001b[0m \u001b[0mget_slope\u001b[0m\u001b[0;34m(\u001b[0m\u001b[0minput_data\u001b[0m\u001b[0;34m,\u001b[0m \u001b[0mtarget\u001b[0m\u001b[0;34m,\u001b[0m \u001b[0mweights\u001b[0m\u001b[0;34m)\u001b[0m\u001b[0;34m:\u001b[0m\u001b[0;34m\u001b[0m\u001b[0m\n\u001b[0;32m---> 15\u001b[0;31m     \u001b[0merror\u001b[0m \u001b[0;34m=\u001b[0m \u001b[0mget_error\u001b[0m\u001b[0;34m(\u001b[0m\u001b[0minput_data\u001b[0m\u001b[0;34m,\u001b[0m \u001b[0mtarget\u001b[0m\u001b[0;34m,\u001b[0m \u001b[0mweights\u001b[0m\u001b[0;34m)\u001b[0m\u001b[0;34m\u001b[0m\u001b[0m\n\u001b[0m\u001b[1;32m     16\u001b[0m     \u001b[0mslope\u001b[0m \u001b[0;34m=\u001b[0m \u001b[0;36m2\u001b[0m \u001b[0;34m*\u001b[0m \u001b[0minput_data\u001b[0m \u001b[0;34m*\u001b[0m \u001b[0merror\u001b[0m\u001b[0;34m\u001b[0m\u001b[0m\n\u001b[1;32m     17\u001b[0m     \u001b[0;32mreturn\u001b[0m\u001b[0;34m(\u001b[0m\u001b[0mslope\u001b[0m\u001b[0;34m)\u001b[0m\u001b[0;34m\u001b[0m\u001b[0m\n",
      "\u001b[0;32m<ipython-input-41-f887cbc522a9>\u001b[0m in \u001b[0;36mget_error\u001b[0;34m(input_data, target, weights)\u001b[0m\n\u001b[1;32m      8\u001b[0m \u001b[0;34m\u001b[0m\u001b[0m\n\u001b[1;32m      9\u001b[0m \u001b[0;32mdef\u001b[0m \u001b[0mget_error\u001b[0m\u001b[0;34m(\u001b[0m\u001b[0minput_data\u001b[0m\u001b[0;34m,\u001b[0m \u001b[0mtarget\u001b[0m\u001b[0;34m,\u001b[0m \u001b[0mweights\u001b[0m\u001b[0;34m)\u001b[0m\u001b[0;34m:\u001b[0m\u001b[0;34m\u001b[0m\u001b[0m\n\u001b[0;32m---> 10\u001b[0;31m     \u001b[0mpreds\u001b[0m \u001b[0;34m=\u001b[0m \u001b[0;34m(\u001b[0m\u001b[0mweights\u001b[0m \u001b[0;34m*\u001b[0m \u001b[0minput_data\u001b[0m\u001b[0;34m)\u001b[0m\u001b[0;34m.\u001b[0m\u001b[0msum\u001b[0m\u001b[0;34m(\u001b[0m\u001b[0;34m)\u001b[0m\u001b[0;34m\u001b[0m\u001b[0m\n\u001b[0m\u001b[1;32m     11\u001b[0m     \u001b[0merror\u001b[0m \u001b[0;34m=\u001b[0m \u001b[0mpreds\u001b[0m \u001b[0;34m-\u001b[0m \u001b[0mtarget\u001b[0m\u001b[0;34m\u001b[0m\u001b[0m\n\u001b[1;32m     12\u001b[0m     \u001b[0;32mreturn\u001b[0m\u001b[0;34m(\u001b[0m\u001b[0merror\u001b[0m\u001b[0;34m)\u001b[0m\u001b[0;34m\u001b[0m\u001b[0m\n",
      "\u001b[0;31mTypeError\u001b[0m: unsupported operand type(s) for *: 'dict' and 'int'"
     ]
    }
   ],
   "source": [
    "import matplotlib.pyplot as plt\n",
    "%matplotlib inline \n",
    "\n",
    "def get_mse(input_data, target, weights):\n",
    "    errors = get_error(input_data, target, weights)\n",
    "    mse = np.mean(errors**2)\n",
    "    return(mse)\n",
    "\n",
    "def get_error(input_data, target, weights):\n",
    "    preds = (weights * input_data).sum()\n",
    "    error = preds - target\n",
    "    return(error)\n",
    "\n",
    "def get_slope(input_data, target, weights):\n",
    "    error = get_error(input_data, target, weights)\n",
    "    slope = 2 * input_data * error\n",
    "    return(slope)\n",
    "\n",
    "\n",
    "n_updates = 20\n",
    "mse_hist = []\n",
    "\n",
    "# Iterate over the number of updates\n",
    "for i in range(n_updates):\n",
    "    # Calculate the slope: slope\n",
    "    slope = get_slope(input_data, target, weights)\n",
    "    \n",
    "    # Update the weights: weights\n",
    "    weights = weights - 0.01 * slope\n",
    "    \n",
    "    # Calculate mse with new weights: mse\n",
    "    mse = get_mse(input_data, target, weights)\n",
    "    \n",
    "    # Append the mse to mse_hist\n",
    "    mse_hist.append(mse)\n",
    "\n",
    "# Plot the mse history\n",
    "plt.plot(mse_hist)\n",
    "plt.xlabel('Iterations')\n",
    "plt.ylabel('Mean Squared Error')\n",
    "plt.show()"
   ]
  },
  {
   "cell_type": "markdown",
   "metadata": {},
   "source": [
    "### Back Propagation\n",
    "\n",
    "<img src='./images/Deep Learning27.PNG' width=\"560\" height=\"315\">\n",
    "<img src='./images/Deep Learning28.PNG' width=\"560\" height=\"315\">\n",
    "<img src='./images/Deep Learning29.PNG' width=\"560\" height=\"315\">\n",
    "<img src='./images/Deep Learning30.PNG' width=\"560\" height=\"315\">\n",
    "<img src='./images/Deep Learning31.PNG' width=\"560\" height=\"315\">\n",
    "\n",
    "#### The relationship between forward and backward propagation\n",
    "\n",
    "If you have gone through 4 iterations of calculating slopes (using backward propagation) and then updated weights, how many times must you have done forward propagation?\n",
    "\n",
    "Ans = 4, Each time you generate predictions using forward propagation, you update the weights using backward propagation.\n",
    "\n",
    "#### Thinking about backward propagation\n",
    "\n",
    "If your predictions were all exactly right, and your errors were all exactly 0, the slope of the loss function with respect to your predictions would also be 0. In that circumstance, which of the following statements would be correct?\n",
    "\n",
    "Ans = The updates to all weights in the network would also be 0."
   ]
  },
  {
   "cell_type": "markdown",
   "metadata": {},
   "source": [
    "### Back Propagation in Practice\n",
    "\n",
    "<img src='./images/Deep Learning36.PNG' width=\"560\" height=\"315\">\n",
    "<img src='./images/Deep Learning35.PNG' width=\"560\" height=\"315\">\n",
    "<img src='./images/Deep Learning34.PNG' width=\"560\" height=\"315\">\n",
    "\n",
    "<img src='./images/Deep Learning33.PNG' width=\"560\" height=\"315\">\n",
    "For computational efficieny we use Stochastic Gradient Boost. If all the data is used its called Gradient Descent.\n",
    "<img src='./images/Deep Learning32.PNG' width=\"560\" height=\"315\">"
   ]
  },
  {
   "cell_type": "markdown",
   "metadata": {},
   "source": [
    "#### A round of backpropagation\n",
    "\n",
    "In the network shown below, we have done forward propagation, and node values calculated as part of forward propagation are shown in white. The weights are shown in black. Layers after the question mark show the slopes calculated as part of back-prop, rather than the forward-prop values. Those slope values are shown in purple.\n",
    "\n",
    "This network again uses the ReLU activation function, so the slope of the activation function is 1 for any node receiving a positive value as input. Assume the node being examined had a positive value (so the activation function's slope is 1).\n",
    "\n",
    "<img src='./images/Deep Learning41.PNG' width=\"560\" height=\"315\">\n",
    "\n",
    "Ans : The slope needed to update this weight is indeed 6. You're now ready to start building deep learning models with keras!"
   ]
  },
  {
   "cell_type": "markdown",
   "metadata": {},
   "source": [
    "## Building deep learning models with keras\n",
    "In this chapter, you'll use the keras library to build deep learning models for both regression as well as classification! You'll learn about the Specify-Compile-Fit workflow that you can use to make predictions and by the end of this chapter, you'll have all the tools necessary to build deep neural networks!\n"
   ]
  },
  {
   "cell_type": "markdown",
   "metadata": {},
   "source": [
    "### Creating a keras model"
   ]
  },
  {
   "cell_type": "code",
   "execution_count": 7,
   "metadata": {
    "ExecuteTime": {
     "end_time": "2018-12-24T00:10:52.876732Z",
     "start_time": "2018-12-24T00:10:52.872963Z"
    }
   },
   "outputs": [],
   "source": [
    "# Import necessary modules\n",
    "import keras\n",
    "from keras.layers import Dense\n",
    "from keras.models import Sequential\n",
    "\n",
    "import pandas as pd"
   ]
  },
  {
   "cell_type": "code",
   "execution_count": 20,
   "metadata": {
    "ExecuteTime": {
     "end_time": "2018-12-24T00:18:46.374583Z",
     "start_time": "2018-12-24T00:18:46.357820Z"
    }
   },
   "outputs": [
    {
     "data": {
      "text/plain": [
       "(Index(['wage_per_hour', 'union', 'education_yrs', 'experience_yrs', 'age',\n",
       "        'female', 'marr', 'south', 'manufacturing', 'construction'],\n",
       "       dtype='object'),\n",
       " array([5.1 , 4.95, 6.67]),\n",
       "    wage_per_hour  union  education_yrs  experience_yrs  age  female  marr  \\\n",
       " 0           5.10      0              8              21   35       1     1   \n",
       " 1           4.95      0              9              42   57       1     1   \n",
       " 2           6.67      0             12               1   19       0     0   \n",
       " 3           4.00      0             12               4   22       0     0   \n",
       " 4           7.50      0             12              17   35       0     1   \n",
       " \n",
       "    south  manufacturing  construction  \n",
       " 0      0              1             0  \n",
       " 1      0              1             0  \n",
       " 2      0              1             0  \n",
       " 3      0              0             0  \n",
       " 4      0              0             0  ,\n",
       " (534,),\n",
       " (534, 9))"
      ]
     },
     "execution_count": 20,
     "metadata": {},
     "output_type": "execute_result"
    }
   ],
   "source": [
    "df = pd.read_csv('./data/hourly_wages.csv')\n",
    "\n",
    "predictors = np.array(df.iloc[:,1:].values)\n",
    "target = np.array(df['wage_per_hour'].values)\n",
    "\n",
    "df.columns,target[0:3],df.head(),target.shape,predictors.shape\n"
   ]
  },
  {
   "cell_type": "code",
   "execution_count": 22,
   "metadata": {
    "ExecuteTime": {
     "end_time": "2018-12-24T00:19:31.370488Z",
     "start_time": "2018-12-24T00:19:31.314739Z"
    }
   },
   "outputs": [],
   "source": [
    "# Save the number of columns in predictors: n_cols\n",
    "n_cols = predictors.shape[1]\n",
    "\n",
    "# Set up the model: model\n",
    "model = Sequential()\n",
    "\n",
    "# Add the first layer\n",
    "model.add(Dense(50, activation='relu', input_shape=(n_cols,)))\n",
    "\n",
    "# Add the second layer\n",
    "model.add(Dense(32, activation='relu'))\n",
    "\n",
    "# Add the output layer\n",
    "model.add(Dense(1))"
   ]
  },
  {
   "cell_type": "markdown",
   "metadata": {},
   "source": [
    "### Compiling and fitting a model\n",
    "\n",
    "You're now going to compile the model you specified earlier. To compile the model, you need to specify the optimizer and loss function to use. In the video, Dan mentioned that the Adam optimizer is an excellent choice. You can read more about it as well as other keras optimizers here, and if you are really curious to learn more, you can read the original paper that introduced the Adam optimizer.\n",
    "\n",
    "In this exercise, you'll use the Adam optimizer and the mean squared error loss function. Go for it!"
   ]
  },
  {
   "cell_type": "code",
   "execution_count": 23,
   "metadata": {
    "ExecuteTime": {
     "end_time": "2018-12-24T00:22:51.469203Z",
     "start_time": "2018-12-24T00:22:51.375919Z"
    }
   },
   "outputs": [
    {
     "name": "stdout",
     "output_type": "stream",
     "text": [
      "Loss function: mean_squared_error\n"
     ]
    }
   ],
   "source": [
    "# Compile the model\n",
    "model.compile(optimizer='adam',loss='mean_squared_error')\n",
    "\n",
    "# Verify that model contains information from compiling\n",
    "print(\"Loss function: \" + model.loss)"
   ]
  },
  {
   "cell_type": "markdown",
   "metadata": {},
   "source": [
    "#### Fitting the model\n",
    "\n",
    "You're at the most fun part. You'll now fit the model. Recall that the data to be used as predictive features is loaded in a NumPy matrix called ```predictors``` and the data to be predicted is stored in a NumPy matrix called ```target```. Your ```model``` is pre-written and it has been compiled with the code from the previous exercise."
   ]
  },
  {
   "cell_type": "code",
   "execution_count": 24,
   "metadata": {
    "ExecuteTime": {
     "end_time": "2018-12-24T00:24:53.983917Z",
     "start_time": "2018-12-24T00:24:53.360525Z"
    }
   },
   "outputs": [
    {
     "name": "stdout",
     "output_type": "stream",
     "text": [
      "Epoch 1/1\n",
      "534/534 [==============================] - 0s 512us/step - loss: 30.2360\n"
     ]
    },
    {
     "data": {
      "text/plain": [
       "<keras.callbacks.History at 0x7fb0bd2b7eb8>"
      ]
     },
     "execution_count": 24,
     "metadata": {},
     "output_type": "execute_result"
    }
   ],
   "source": [
    "# Fit the model\n",
    "model.fit(predictors,target)"
   ]
  },
  {
   "cell_type": "markdown",
   "metadata": {},
   "source": [
    "### Classification models"
   ]
  },
  {
   "cell_type": "code",
   "execution_count": 28,
   "metadata": {
    "ExecuteTime": {
     "end_time": "2018-12-24T00:42:13.406273Z",
     "start_time": "2018-12-24T00:42:12.823264Z"
    }
   },
   "outputs": [
    {
     "name": "stdout",
     "output_type": "stream",
     "text": [
      "Epoch 1/1\n",
      "891/891 [==============================] - 0s 276us/step - loss: 1.9648 - acc: 0.5937\n"
     ]
    },
    {
     "data": {
      "text/plain": [
       "<keras.callbacks.History at 0x7fb0bc476cf8>"
      ]
     },
     "execution_count": 28,
     "metadata": {},
     "output_type": "execute_result"
    }
   ],
   "source": [
    "from keras.utils import to_categorical\n",
    "df = pd.read_csv('./data/titanic_all_numeric.csv')\n",
    "\n",
    "\n",
    "#predictors = df.drop(['survived'],axis=1).as_matrix()\n",
    "predictors = np.array(df.iloc[:,1:].values)\n",
    "n_cols = predictors.shape[1]\n",
    "# Convert the target to categorical: target\n",
    "target = to_categorical(df.survived)\n",
    "\n",
    "# Set up the model\n",
    "model = Sequential()\n",
    "\n",
    "# Add the first layer\n",
    "model.add(Dense(32,activation='relu',input_shape=(n_cols,)))\n",
    "\n",
    "# Add the output layer\n",
    "model.add(Dense(2,activation='softmax'))\n",
    "\n",
    "# Compile the model\n",
    "model.compile(optimizer='sgd',loss='categorical_crossentropy',metrics=['accuracy'])\n",
    "\n",
    "# Fit the model\n",
    "model.fit(predictors,target)"
   ]
  },
  {
   "cell_type": "markdown",
   "metadata": {},
   "source": [
    "### Using models\n",
    "\n",
    "#### Making predictions\n",
    "\n",
    "The trained network from your previous coding exercise is now stored as ```model```. New data to make predictions is stored in a NumPy array as ```pred_data```. Use ```model``` to make predictions on your new data.\n",
    "\n",
    "In this exercise, your predictions will be probabilities, which is the most common way for data scientists to communicate their predictions to colleagues."
   ]
  },
  {
   "cell_type": "code",
   "execution_count": 29,
   "metadata": {
    "ExecuteTime": {
     "end_time": "2018-12-24T00:49:09.919080Z",
     "start_time": "2018-12-24T00:49:09.834411Z"
    }
   },
   "outputs": [
    {
     "name": "stdout",
     "output_type": "stream",
     "text": [
      "[0.9589375  0.99627566 1.         0.4697235  0.8903525  0.91240513\n",
      " 0.8762821  0.9148533  0.96356356 0.9999845  0.90031284 0.99633056\n",
      " 0.9391513  0.99559444 0.9137149  0.82341576 0.9284484  0.9994381\n",
      " 0.94468963 0.9935842  1.         0.9138572  0.87101716 0.9637493\n",
      " 0.99641234 0.88856    0.9999844  0.99549353 0.8982309  1.\n",
      " 0.9424681  0.9150192  0.9012232  0.89268553 0.8807299  1.\n",
      " 0.8973421  0.91815025 0.9999845  0.9979565  0.8825349  0.89194506\n",
      " 0.99879587 0.9002617  0.879807   0.9423088  0.9999989  0.9171146\n",
      " 0.9985454  1.         0.99117833 0.9917345  0.9458874  0.99969363\n",
      " 0.9987087  0.9186365  1.         0.99816054 0.9824714  0.9012232\n",
      " 0.97684675 0.9357537  0.9985775  0.9999993  0.95313275 0.97768825\n",
      " 0.97248983 0.99996483 0.93334615 0.81003535 0.90044355 0.9999876\n",
      " 0.8833474  0.95952535 0.99412954 0.8943275  0.9099515  0.8781012\n",
      " 0.91666645 1.         0.9955058  0.91926545 0.9501576  0.9284097\n",
      " 0.8839281  0.99816823 0.9534261  0.99799573 0.99358153 0.9978173\n",
      " 0.89801705]\n"
     ]
    }
   ],
   "source": [
    "pred_data = np.array([[2, 34.0, 0, 0, 13.0, 1, False, 0, 0, 1],\n",
    "       [2, 31.0, 1, 1, 26.25, 0, False, 0, 0, 1],\n",
    "       [1, 11.0, 1, 2, 120.0, 1, False, 0, 0, 1],\n",
    "       [3, 0.42, 0, 1, 8.5167, 1, False, 1, 0, 0],\n",
    "       [3, 27.0, 0, 0, 6.975, 1, False, 0, 0, 1],\n",
    "       [3, 31.0, 0, 0, 7.775, 1, False, 0, 0, 1],\n",
    "       [1, 39.0, 0, 0, 0.0, 1, False, 0, 0, 1],\n",
    "       [3, 18.0, 0, 0, 7.775, 0, False, 0, 0, 1],\n",
    "       [2, 39.0, 0, 0, 13.0, 1, False, 0, 0, 1],\n",
    "       [1, 33.0, 1, 0, 53.1, 0, False, 0, 0, 1],\n",
    "       [3, 26.0, 0, 0, 7.8875, 1, False, 0, 0, 1],\n",
    "       [3, 39.0, 0, 0, 24.15, 1, False, 0, 0, 1],\n",
    "       [2, 35.0, 0, 0, 10.5, 1, False, 0, 0, 1],\n",
    "       [3, 6.0, 4, 2, 31.275, 0, False, 0, 0, 1],\n",
    "       [3, 30.5, 0, 0, 8.05, 1, False, 0, 0, 1],\n",
    "       [1, 29.69911764705882, 0, 0, 0.0, 1, True, 0, 0, 1],\n",
    "       [3, 23.0, 0, 0, 7.925, 0, False, 0, 0, 1],\n",
    "       [2, 31.0, 1, 1, 37.0042, 1, False, 1, 0, 0],\n",
    "       [3, 43.0, 0, 0, 6.45, 1, False, 0, 0, 1],\n",
    "       [3, 10.0, 3, 2, 27.9, 1, False, 0, 0, 1],\n",
    "       [1, 52.0, 1, 1, 93.5, 0, False, 0, 0, 1],\n",
    "       [3, 27.0, 0, 0, 8.6625, 1, False, 0, 0, 1],\n",
    "       [1, 38.0, 0, 0, 0.0, 1, False, 0, 0, 1],\n",
    "       [3, 27.0, 0, 1, 12.475, 0, False, 0, 0, 1],\n",
    "       [3, 2.0, 4, 1, 39.6875, 1, False, 0, 0, 1],\n",
    "       [3, 29.69911764705882, 0, 0, 6.95, 1, True, 0, 1, 0],\n",
    "       [3, 29.69911764705882, 0, 0, 56.4958, 1, True, 0, 0, 1],\n",
    "       [2, 1.0, 0, 2, 37.0042, 1, False, 1, 0, 0],\n",
    "       [3, 29.69911764705882, 0, 0, 7.75, 1, True, 0, 1, 0],\n",
    "       [1, 62.0, 0, 0, 80.0, 0, False, 0, 0, 0],\n",
    "       [3, 15.0, 1, 0, 14.4542, 0, False, 1, 0, 0],\n",
    "       [2, 0.83, 1, 1, 18.75, 1, False, 0, 0, 1],\n",
    "       [3, 29.69911764705882, 0, 0, 7.2292, 1, True, 1, 0, 0],\n",
    "       [3, 23.0, 0, 0, 7.8542, 1, False, 0, 0, 1],\n",
    "       [3, 18.0, 0, 0, 8.3, 1, False, 0, 0, 1],\n",
    "       [1, 39.0, 1, 1, 83.1583, 0, False, 1, 0, 0],\n",
    "       [3, 21.0, 0, 0, 8.6625, 1, False, 0, 0, 1],\n",
    "       [3, 29.69911764705882, 0, 0, 8.05, 1, True, 0, 0, 1],\n",
    "       [3, 32.0, 0, 0, 56.4958, 1, False, 0, 0, 1],\n",
    "       [1, 29.69911764705882, 0, 0, 29.7, 1, True, 1, 0, 0],\n",
    "       [3, 20.0, 0, 0, 7.925, 1, False, 0, 0, 1],\n",
    "       [2, 16.0, 0, 0, 10.5, 1, False, 0, 0, 1],\n",
    "       [1, 30.0, 0, 0, 31.0, 0, False, 1, 0, 0],\n",
    "       [3, 34.5, 0, 0, 6.4375, 1, False, 1, 0, 0],\n",
    "       [3, 17.0, 0, 0, 8.6625, 1, False, 0, 0, 1],\n",
    "       [3, 42.0, 0, 0, 7.55, 1, False, 0, 0, 1],\n",
    "       [3, 29.69911764705882, 8, 2, 69.55, 1, True, 0, 0, 1],\n",
    "       [3, 35.0, 0, 0, 7.8958, 1, False, 1, 0, 0],\n",
    "       [2, 28.0, 0, 1, 33.0, 1, False, 0, 0, 1],\n",
    "       [1, 29.69911764705882, 1, 0, 89.1042, 0, True, 1, 0, 0],\n",
    "       [3, 4.0, 4, 2, 31.275, 1, False, 0, 0, 1],\n",
    "       [3, 74.0, 0, 0, 7.775, 1, False, 0, 0, 1],\n",
    "       [3, 9.0, 1, 1, 15.2458, 0, False, 1, 0, 0],\n",
    "       [1, 16.0, 0, 1, 39.4, 0, False, 0, 0, 1],\n",
    "       [2, 44.0, 1, 0, 26.0, 0, False, 0, 0, 1],\n",
    "       [3, 18.0, 0, 1, 9.35, 0, False, 0, 0, 1],\n",
    "       [1, 45.0, 1, 1, 164.8667, 0, False, 0, 0, 1],\n",
    "       [1, 51.0, 0, 0, 26.55, 1, False, 0, 0, 1],\n",
    "       [3, 24.0, 0, 3, 19.2583, 0, False, 1, 0, 0],\n",
    "       [3, 29.69911764705882, 0, 0, 7.2292, 1, True, 1, 0, 0],\n",
    "       [3, 41.0, 2, 0, 14.1083, 1, False, 0, 0, 1],\n",
    "       [2, 21.0, 1, 0, 11.5, 1, False, 0, 0, 1],\n",
    "       [1, 48.0, 0, 0, 25.9292, 0, False, 0, 0, 1],\n",
    "       [3, 29.69911764705882, 8, 2, 69.55, 0, True, 0, 0, 1],\n",
    "       [2, 24.0, 0, 0, 13.0, 1, False, 0, 0, 1],\n",
    "       [2, 42.0, 0, 0, 13.0, 0, False, 0, 0, 1],\n",
    "       [2, 27.0, 1, 0, 13.8583, 0, False, 1, 0, 0],\n",
    "       [1, 31.0, 0, 0, 50.4958, 1, False, 0, 0, 1],\n",
    "       [3, 29.69911764705882, 0, 0, 9.5, 1, True, 0, 0, 1],\n",
    "       [3, 4.0, 1, 1, 11.1333, 1, False, 0, 0, 1],\n",
    "       [3, 26.0, 0, 0, 7.8958, 1, False, 0, 0, 1],\n",
    "       [1, 47.0, 1, 1, 52.5542, 0, False, 0, 0, 1],\n",
    "       [1, 33.0, 0, 0, 5.0, 1, False, 0, 0, 1],\n",
    "       [3, 47.0, 0, 0, 9.0, 1, False, 0, 0, 1],\n",
    "       [2, 28.0, 1, 0, 24.0, 0, False, 1, 0, 0],\n",
    "       [3, 15.0, 0, 0, 7.225, 0, False, 1, 0, 0],\n",
    "       [3, 20.0, 0, 0, 9.8458, 1, False, 0, 0, 1],\n",
    "       [3, 19.0, 0, 0, 7.8958, 1, False, 0, 0, 1],\n",
    "       [3, 29.69911764705882, 0, 0, 7.8958, 1, True, 0, 0, 1],\n",
    "       [1, 56.0, 0, 1, 83.1583, 0, False, 1, 0, 0],\n",
    "       [2, 25.0, 0, 1, 26.0, 0, False, 0, 0, 1],\n",
    "       [3, 33.0, 0, 0, 7.8958, 1, False, 0, 0, 1],\n",
    "       [3, 22.0, 0, 0, 10.5167, 0, False, 0, 0, 1],\n",
    "       [2, 28.0, 0, 0, 10.5, 1, False, 0, 0, 1],\n",
    "       [3, 25.0, 0, 0, 7.05, 1, False, 0, 0, 1],\n",
    "       [3, 39.0, 0, 5, 29.125, 0, False, 0, 1, 0],\n",
    "       [2, 27.0, 0, 0, 13.0, 1, False, 0, 0, 1],\n",
    "       [1, 19.0, 0, 0, 30.0, 0, False, 0, 0, 1],\n",
    "       [3, 29.69911764705882, 1, 2, 23.45, 0, True, 0, 0, 1],\n",
    "       [1, 26.0, 0, 0, 30.0, 1, False, 1, 0, 0],\n",
    "       [3, 32.0, 0, 0, 7.75, 1, False, 0, 1, 0]],dtype=object)\n",
    "\n",
    "\n",
    "# Calculate predictions: predictions\n",
    "predictions = model.predict(pred_data)\n",
    "\n",
    "# Calculate predicted probability of survival: predicted_prob_true\n",
    "predicted_prob_true = predictions[:,1]\n",
    "\n",
    "# print predicted_prob_true\n",
    "print(predicted_prob_true)"
   ]
  },
  {
   "cell_type": "markdown",
   "metadata": {},
   "source": [
    "## Fine-tuning keras models\n",
    "Here, you'll learn how to optimize your deep learning models in keras. You'll learn how to validate your models, understand the concept of model capacity, and experiment with wider and deeper networks. Enjoy!"
   ]
  },
  {
   "cell_type": "markdown",
   "metadata": {},
   "source": [
    "### Understanding model optimization\n",
    "\n",
    "#### Changing optimization parameters\n",
    "\n",
    "It's time to get your hands dirty with optimization. You'll now try optimizing a model at a very low learning rate, a very high learning rate, and a \"just right\" learning rate. You'll want to look at the results after running this exercise, remembering that a low value for the loss function is good.\n",
    "\n",
    "For these exercises, we've pre-loaded the predictors and target values from your previous classification models (predicting who would survive on the Titanic). You'll want the optimization to start from scratch every time you change the learning rate, to give a fair comparison of how each learning rate did in your results. So we have created a function ```get_new_model()``` that creates an unoptimized model to optimize."
   ]
  },
  {
   "cell_type": "code",
   "execution_count": 32,
   "metadata": {
    "ExecuteTime": {
     "end_time": "2018-12-24T01:54:13.689329Z",
     "start_time": "2018-12-24T01:54:11.833184Z"
    }
   },
   "outputs": [
    {
     "name": "stdout",
     "output_type": "stream",
     "text": [
      "\n",
      "\n",
      "Testing model with learning rate: 0.000001\n",
      "\n",
      "Epoch 1/1\n",
      "891/891 [==============================] - 0s 255us/step - loss: 2.3499\n",
      "\n",
      "\n",
      "Testing model with learning rate: 0.010000\n",
      "\n",
      "Epoch 1/1\n",
      "891/891 [==============================] - 0s 274us/step - loss: 1.8681\n",
      "\n",
      "\n",
      "Testing model with learning rate: 1.000000\n",
      "\n",
      "Epoch 1/1\n",
      "891/891 [==============================] - 0s 327us/step - loss: 6.1309\n"
     ]
    }
   ],
   "source": [
    "# Import the SGD optimizer\n",
    "from keras.optimizers import SGD\n",
    "\n",
    "# Create list of learning rates: lr_to_test\n",
    "lr_to_test = [.000001,0.01,1]\n",
    "\n",
    "input_shape = (predictors.shape[1],)\n",
    "def get_new_model(input_shape = input_shape):\n",
    "    model = Sequential()\n",
    "    model.add(Dense(100, activation='relu', input_shape = input_shape))\n",
    "    model.add(Dense(100, activation='relu'))\n",
    "    model.add(Dense(2, activation='softmax'))\n",
    "    return(model)\n",
    "\n",
    "# Loop over learning rates\n",
    "for lr in lr_to_test:\n",
    "    print('\\n\\nTesting model with learning rate: %f\\n'%lr )\n",
    "    \n",
    "    # Build new model to test, unaffected by previous models\n",
    "    model = get_new_model()\n",
    "    \n",
    "    # Create SGD optimizer with specified learning rate: my_optimizer\n",
    "    my_optimizer = SGD(lr=lr)\n",
    "    \n",
    "    # Compile the model\n",
    "    model.compile(optimizer=my_optimizer,loss='categorical_crossentropy')\n",
    "    \n",
    "    # Fit the model\n",
    "    model.fit(predictors,target)"
   ]
  },
  {
   "cell_type": "markdown",
   "metadata": {},
   "source": [
    "### Model Validation\n",
    "\n",
    "#### Evaluating model accuracy on validation dataset\n",
    "\n",
    "Now it's your turn to monitor model accuracy with a validation data set. A model definition has been provided as ```model```. Your job is to add the code to compile it and then fit it. You'll check the validation score in each epoch."
   ]
  },
  {
   "cell_type": "code",
   "execution_count": 37,
   "metadata": {
    "ExecuteTime": {
     "end_time": "2018-12-24T02:13:08.088109Z",
     "start_time": "2018-12-24T02:13:06.722820Z"
    }
   },
   "outputs": [
    {
     "name": "stdout",
     "output_type": "stream",
     "text": [
      "Train on 623 samples, validate on 268 samples\n",
      "Epoch 1/10\n",
      "623/623 [==============================] - 1s 873us/step - loss: 0.8753 - acc: 0.6164 - val_loss: 0.9470 - val_acc: 0.6306\n",
      "Epoch 2/10\n",
      "623/623 [==============================] - 0s 56us/step - loss: 0.6816 - acc: 0.6421 - val_loss: 0.7038 - val_acc: 0.6754\n",
      "Epoch 3/10\n",
      "623/623 [==============================] - 0s 53us/step - loss: 0.6286 - acc: 0.6902 - val_loss: 0.6580 - val_acc: 0.6679\n",
      "Epoch 4/10\n",
      "623/623 [==============================] - 0s 52us/step - loss: 0.6093 - acc: 0.6838 - val_loss: 0.6165 - val_acc: 0.6978\n",
      "Epoch 5/10\n",
      "623/623 [==============================] - 0s 52us/step - loss: 0.6165 - acc: 0.6629 - val_loss: 0.5182 - val_acc: 0.7463\n",
      "Epoch 6/10\n",
      "623/623 [==============================] - 0s 56us/step - loss: 0.6036 - acc: 0.6934 - val_loss: 0.5903 - val_acc: 0.6642\n",
      "Epoch 7/10\n",
      "623/623 [==============================] - 0s 56us/step - loss: 0.6058 - acc: 0.6774 - val_loss: 0.6641 - val_acc: 0.7351\n",
      "Epoch 8/10\n",
      "623/623 [==============================] - 0s 54us/step - loss: 0.7061 - acc: 0.6838 - val_loss: 0.6056 - val_acc: 0.7500\n",
      "Epoch 9/10\n",
      "623/623 [==============================] - 0s 54us/step - loss: 0.6108 - acc: 0.6918 - val_loss: 0.5787 - val_acc: 0.7537\n",
      "Epoch 10/10\n",
      "623/623 [==============================] - 0s 53us/step - loss: 0.6046 - acc: 0.7303 - val_loss: 0.5159 - val_acc: 0.7015\n"
     ]
    }
   ],
   "source": [
    "# Save the number of columns in predictors: n_cols\n",
    "n_cols = predictors.shape[1]\n",
    "input_shape = (n_cols,)\n",
    "\n",
    "# Specify the model\n",
    "model = Sequential()\n",
    "model.add(Dense(100, activation='relu', input_shape = input_shape))\n",
    "model.add(Dense(100, activation='relu'))\n",
    "model.add(Dense(2, activation='softmax'))\n",
    "\n",
    "# Compile the model\n",
    "model.compile(optimizer='adam',loss='categorical_crossentropy',metrics=['accuracy'])\n",
    "\n",
    "# Fit the model\n",
    "hist = model.fit(predictors,target,epochs=10,validation_split=.3)"
   ]
  },
  {
   "cell_type": "markdown",
   "metadata": {},
   "source": [
    "#### Early stopping: Optimizing the optimization\n",
    "\n",
    "Now that you know how to monitor your model performance throughout optimization, you can use early stopping to stop optimization when it isn't helping any more. Since the optimization stops automatically when it isn't helping, you can also set a high value for ```epochs``` in your call to ```.fit()```, as Dan showed in the video.\n",
    "\n",
    "The model you'll optimize has been specified as ```model```. As before, the data is pre-loaded as ```predictors``` and ```target```."
   ]
  },
  {
   "cell_type": "code",
   "execution_count": 38,
   "metadata": {
    "ExecuteTime": {
     "end_time": "2018-12-24T02:13:40.664719Z",
     "start_time": "2018-12-24T02:13:39.219030Z"
    }
   },
   "outputs": [
    {
     "name": "stdout",
     "output_type": "stream",
     "text": [
      "Train on 623 samples, validate on 268 samples\n",
      "Epoch 1/30\n",
      "623/623 [==============================] - 1s 920us/step - loss: 1.2824 - acc: 0.5811 - val_loss: 0.5787 - val_acc: 0.7201\n",
      "Epoch 2/30\n",
      "623/623 [==============================] - 0s 58us/step - loss: 0.7713 - acc: 0.6148 - val_loss: 0.5547 - val_acc: 0.7351\n",
      "Epoch 3/30\n",
      "623/623 [==============================] - 0s 58us/step - loss: 0.6179 - acc: 0.6613 - val_loss: 0.5739 - val_acc: 0.7052\n",
      "Epoch 4/30\n",
      "623/623 [==============================] - 0s 57us/step - loss: 0.6162 - acc: 0.6822 - val_loss: 0.6179 - val_acc: 0.6679\n",
      "Epoch 5/30\n",
      "623/623 [==============================] - 0s 57us/step - loss: 0.5996 - acc: 0.6709 - val_loss: 0.5169 - val_acc: 0.7388\n",
      "Epoch 6/30\n",
      "623/623 [==============================] - 0s 54us/step - loss: 0.6613 - acc: 0.6581 - val_loss: 0.5215 - val_acc: 0.7090\n",
      "Epoch 7/30\n",
      "623/623 [==============================] - 0s 56us/step - loss: 0.5895 - acc: 0.6854 - val_loss: 0.5928 - val_acc: 0.7575\n",
      "Epoch 8/30\n",
      "623/623 [==============================] - 0s 56us/step - loss: 0.6015 - acc: 0.6998 - val_loss: 0.4976 - val_acc: 0.7463\n",
      "Epoch 9/30\n",
      "623/623 [==============================] - 0s 57us/step - loss: 0.5594 - acc: 0.7223 - val_loss: 0.5076 - val_acc: 0.7500\n",
      "Epoch 10/30\n",
      "623/623 [==============================] - 0s 57us/step - loss: 0.6111 - acc: 0.6790 - val_loss: 0.5126 - val_acc: 0.7537\n",
      "Epoch 11/30\n",
      "623/623 [==============================] - 0s 57us/step - loss: 0.5981 - acc: 0.7207 - val_loss: 0.5087 - val_acc: 0.7575\n"
     ]
    },
    {
     "data": {
      "text/plain": [
       "<keras.callbacks.History at 0x7fb0ad12d908>"
      ]
     },
     "execution_count": 38,
     "metadata": {},
     "output_type": "execute_result"
    }
   ],
   "source": [
    "# Import EarlyStopping\n",
    "from keras.callbacks import EarlyStopping\n",
    "\n",
    "# Save the number of columns in predictors: n_cols\n",
    "n_cols = predictors.shape[1]\n",
    "input_shape = (n_cols,)\n",
    "\n",
    "# Specify the model\n",
    "model = Sequential()\n",
    "model.add(Dense(100, activation='relu', input_shape = input_shape))\n",
    "model.add(Dense(100, activation='relu'))\n",
    "model.add(Dense(2, activation='softmax'))\n",
    "\n",
    "# Compile the model\n",
    "model.compile(optimizer='adam',loss='categorical_crossentropy',metrics=['accuracy'])\n",
    "\n",
    "# Define early_stopping_monitor\n",
    "early_stopping_monitor = EarlyStopping(patience=3)\n",
    "\n",
    "# Fit the model\n",
    "model.fit(predictors,target,validation_split=0.3,epochs=30,callbacks=[early_stopping_monitor])"
   ]
  },
  {
   "cell_type": "code",
   "execution_count": 39,
   "metadata": {
    "ExecuteTime": {
     "end_time": "2018-12-24T03:09:15.768543Z",
     "start_time": "2018-12-24T03:09:15.763495Z"
    }
   },
   "outputs": [
    {
     "name": "stdout",
     "output_type": "stream",
     "text": [
      "_________________________________________________________________\n",
      "Layer (type)                 Output Shape              Param #   \n",
      "=================================================================\n",
      "dense_36 (Dense)             (None, 100)               1100      \n",
      "_________________________________________________________________\n",
      "dense_37 (Dense)             (None, 100)               10100     \n",
      "_________________________________________________________________\n",
      "dense_38 (Dense)             (None, 2)                 202       \n",
      "=================================================================\n",
      "Total params: 11,402\n",
      "Trainable params: 11,402\n",
      "Non-trainable params: 0\n",
      "_________________________________________________________________\n"
     ]
    }
   ],
   "source": [
    "model.summary()"
   ]
  },
  {
   "cell_type": "markdown",
   "metadata": {},
   "source": [
    "Because optimization will automatically stop when it is no longer helpful, it is okay to specify the maximum number of epochs as 30 rather than using the default of 10 that you've used so far. Here, it seems like the optimization stopped after 7 epochs.\n",
    "\n",
    "#### Experimenting with wider networks\n",
    "\n",
    "Now you know everything you need to begin experimenting with different models!\n",
    "\n",
    "A model called ```model_1``` has been pre-loaded. You can see a summary of this model printed in the IPython Shell. This is a relatively small network, with only 10 units in each hidden layer.\n",
    "\n",
    "In this exercise you'll create a new model called ```model_2``` which is similar to ```model_1```, except it has 100 units in each hidden layer.\n",
    "\n",
    "After you create ```model_2```, both models will be fitted, and a graph showing both models loss score at each epoch will be shown. We added the argument ```verbose=False``` in the fitting commands to print out fewer updates, since you will look at these graphically instead of as text.\n",
    "\n",
    "Because you are fitting two models, it will take a moment to see the outputs after you hit run, so be patient."
   ]
  },
  {
   "cell_type": "code",
   "execution_count": 42,
   "metadata": {
    "ExecuteTime": {
     "end_time": "2018-12-24T03:24:26.802886Z",
     "start_time": "2018-12-24T03:24:23.675226Z"
    }
   },
   "outputs": [
    {
     "data": {
      "image/png": "[encoded data removed]",
      "text/plain": [
       "<Figure size 432x288 with 1 Axes>"
      ]
     },
     "metadata": {
      "needs_background": "light"
     },
     "output_type": "display_data"
    }
   ],
   "source": [
    "# Define early_stopping_monitor\n",
    "early_stopping_monitor = EarlyStopping(patience=2)\n",
    "\n",
    "# Create the new model: model_1\n",
    "model_1 = Sequential()\n",
    "\n",
    "# Add the first and second layers\n",
    "model_1.add(Dense(10, activation='relu', input_shape=input_shape))\n",
    "model_1.add(Dense(10, activation='relu'))\n",
    "\n",
    "# Add the output layer\n",
    "model_1.add(Dense(2, activation='softmax'))\n",
    "\n",
    "# Compile model_2\n",
    "model_1.compile(optimizer='adam',loss='categorical_crossentropy',metrics=['accuracy'])\n",
    "\n",
    "\n",
    "# Create the new model: model_2\n",
    "model_2 = Sequential()\n",
    "\n",
    "# Add the first and second layers\n",
    "model_2.add(Dense(100, activation='relu', input_shape=input_shape))\n",
    "model_2.add(Dense(100, activation='relu'))\n",
    "\n",
    "# Add the output layer\n",
    "model_2.add(Dense(2, activation='softmax'))\n",
    "\n",
    "# Compile model_2\n",
    "model_2.compile(optimizer='adam',loss='categorical_crossentropy',metrics=['accuracy'])\n",
    "\n",
    "# Fit model_1\n",
    "model_1_training = model_1.fit(predictors, target, epochs=15, validation_split=0.2, callbacks=[early_stopping_monitor], verbose=False)\n",
    "\n",
    "# Fit model_2\n",
    "model_2_training = model_2.fit(predictors, target, epochs=15, validation_split=0.2, callbacks=[early_stopping_monitor], verbose=False)\n",
    "\n",
    "# Create the plot\n",
    "plt.plot(model_1_training.history['val_loss'], 'r', model_2_training.history['val_loss'], 'b')\n",
    "plt.xlabel('Epochs')\n",
    "plt.ylabel('Validation score')\n",
    "plt.show()"
   ]
  },
  {
   "cell_type": "markdown",
   "metadata": {},
   "source": [
    "The blue model is the one you made, the red is the original model. Your model had a lower loss value, so it is the better model.\n",
    "\n",
    "#### Adding layers to a network\n",
    "\n",
    "You've seen how to experiment with wider networks. In this exercise, you'll try a deeper network (more hidden layers).\n",
    "\n",
    "Once again, you have a baseline model called ```model_1``` as a starting point. It has 1 hidden layer, with ```50``` units. You can see a summary of that model's structure printed out. You will create a similar network with 3 hidden layers (still keeping 50 units in each layer).\n",
    "\n",
    "This will again take a moment to fit both models, so you'll need to wait a few seconds to see the results after you run your code."
   ]
  },
  {
   "cell_type": "code",
   "execution_count": 43,
   "metadata": {
    "ExecuteTime": {
     "end_time": "2018-12-24T03:32:59.035754Z",
     "start_time": "2018-12-24T03:32:56.022211Z"
    }
   },
   "outputs": [
    {
     "data": {
      "image/png": "[encoded data removed]",
      "text/plain": [
       "<Figure size 432x288 with 1 Axes>"
      ]
     },
     "metadata": {
      "needs_background": "light"
     },
     "output_type": "display_data"
    }
   ],
   "source": [
    "# The input shape to use in the first hidden layer\n",
    "input_shape = (n_cols,)\n",
    "\n",
    "\n",
    "# Create the new model: model_1\n",
    "model_1 = Sequential()\n",
    "\n",
    "# Add the first hidden layers\n",
    "model_1.add(Dense(50,activation='relu',input_shape=input_shape))\n",
    "# Add the output layer\n",
    "model_1.add(Dense(2,activation='softmax'))\n",
    "\n",
    "# Compile model_1\n",
    "model_1.compile(optimizer='adam',loss='categorical_crossentropy',metrics=['accuracy'])\n",
    "\n",
    "# Create the new model: model_2\n",
    "model_2 = Sequential()\n",
    "\n",
    "# Add the first, second, and third hidden layers\n",
    "model_2.add(Dense(50,activation='relu',input_shape=input_shape))\n",
    "model_2.add(Dense(50,activation='relu'))\n",
    "model_2.add(Dense(50,activation='relu'))\n",
    "\n",
    "# Add the output layer\n",
    "model_2.add(Dense(2,activation='softmax'))\n",
    "\n",
    "# Compile model_2\n",
    "model_2.compile(optimizer='adam',loss='categorical_crossentropy',metrics=['accuracy'])\n",
    "\n",
    "# Fit model 1\n",
    "model_1_training = model_1.fit(predictors, target, epochs=20, validation_split=0.4, callbacks=[early_stopping_monitor], verbose=False)\n",
    "\n",
    "# Fit model 2\n",
    "model_2_training = model_2.fit(predictors, target, epochs=20, validation_split=0.4, callbacks=[early_stopping_monitor], verbose=False)\n",
    "\n",
    "# Create the plot\n",
    "plt.plot(model_1_training.history['val_loss'], 'r', model_2_training.history['val_loss'], 'b')\n",
    "plt.xlabel('Epochs')\n",
    "plt.ylabel('Validation score')\n",
    "plt.show()\n"
   ]
  },
  {
   "cell_type": "markdown",
   "metadata": {},
   "source": [
    "The blue model is the one you made and the red is the original model. The model with the lower loss value is the better model."
   ]
  },
  {
   "cell_type": "markdown",
   "metadata": {},
   "source": [
    "### Thinking about model capacity\n",
    "You know how to experiment and compare different models. Model/ capacity should be one of the key considerations to think about while deciding what models to try. Model capacity is a models ability to capture more predictive power in your data.\n",
    "\n",
    "So model capacity is closely related to overfitting and underfitting.\n",
    "<img src='./images/Deep Learning37.PNG' width=\"560\" height=\"315\">\n",
    "Below is a good workflow to find a good model architecture with Sequential experiments.\n",
    "<img src='./images/Deep Learning38.PNG' width=\"560\" height=\"315\">\n",
    "<img src='./images/Deep Learning39.PNG' width=\"560\" height=\"315\">\n",
    "\n",
    "#### Building your own digit recognition model\n",
    "\n",
    "You've reached the final exercise of the course - you now know everything you need to build an accurate model to recognize handwritten digits!\n",
    "\n",
    "We've already done the basic manipulation of the MNIST dataset shown in the video, so you have ```X``` and ```y``` loaded and ready to model with. ```Sequential``` and ```Dense``` from keras are also pre-imported.\n",
    "\n",
    "To add an extra challenge, we've loaded only 2500 images, rather than 60000 which you will see in some published results. Deep learning models perform better with more data, however, they also take longer to train, especially when they start becoming more complex.\n",
    "\n",
    "If you have a computer with a CUDA compatible GPU, you can take advantage of it to improve computation time. If you don't have a GPU, no problem! You can set up a deep learning environment in the cloud that can run your models on a GPU. Here is a <a src='https://www.datacamp.com/community/tutorials/deep-learning-jupyter-aws'>blog post</a> by Dan that explains how to do this - check it out after completing this exercise! It is a great next step as you continue your deep learning journey."
   ]
  },
  {
   "cell_type": "code",
   "execution_count": 60,
   "metadata": {
    "ExecuteTime": {
     "end_time": "2018-12-24T04:19:30.794885Z",
     "start_time": "2018-12-24T04:19:30.552617Z"
    }
   },
   "outputs": [
    {
     "data": {
      "text/plain": [
       "((2001, 784), (2001, 10), (2001, 785))"
      ]
     },
     "execution_count": 60,
     "metadata": {},
     "output_type": "execute_result"
    }
   ],
   "source": [
    "df = pd.read_csv('./data/mnist.csv',header=None)\n",
    "y = np.array(to_categorical(df.iloc[:,0].values))\n",
    "X = np.array(df.iloc[:,1:].values)\n",
    "X.shape, y.shape, df.shape"
   ]
  },
  {
   "cell_type": "code",
   "execution_count": 57,
   "metadata": {
    "ExecuteTime": {
     "end_time": "2018-12-24T04:04:26.720732Z",
     "start_time": "2018-12-24T04:04:26.684775Z"
    }
   },
   "outputs": [
    {
     "data": {
      "text/plain": [
       "(   1    2    3    4    5    6    7    8    9    10   ...      775    776  \\\n",
       " 0    0  0.1  0.2  0.3  0.4  0.5  0.6  0.7  0.8  0.9  ...    0.608  0.609   \n",
       " 1    0  0.0  0.0  0.0  0.0  0.0  0.0  0.0  0.0  0.0  ...    0.000  0.000   \n",
       " 2    0  0.0  0.0  0.0  0.0  0.0  0.0  0.0  0.0  0.0  ...    0.000  0.000   \n",
       " 3    0  0.0  0.0  0.0  0.0  0.0  0.0  0.0  0.0  0.0  ...    0.000  0.000   \n",
       " 4    0  0.0  0.0  0.0  0.0  0.0  0.0  0.0  0.0  0.0  ...    0.000  0.000   \n",
       " \n",
       "     777    778    779    780    781    782    783    784  \n",
       " 0  0.61  0.611  0.612  0.613  0.614  0.615  0.616  0.617  \n",
       " 1  0.00  0.000  0.000  0.000  0.000  0.000  0.000  0.000  \n",
       " 2  0.00  0.000  0.000  0.000  0.000  0.000  0.000  0.000  \n",
       " 3  0.00  0.000  0.000  0.000  0.000  0.000  0.000  0.000  \n",
       " 4  0.00  0.000  0.000  0.000  0.000  0.000  0.000  0.000  \n",
       " \n",
       " [5 rows x 784 columns], 0    5\n",
       " 1    4\n",
       " 2    3\n",
       " 3    0\n",
       " 4    2\n",
       " Name: 0, dtype: int64,    0    1    2    3    4    5    6    7    8    9    ...      775    776  \\\n",
       " 0    5    0  0.1  0.2  0.3  0.4  0.5  0.6  0.7  0.8  ...    0.608  0.609   \n",
       " 1    4    0  0.0  0.0  0.0  0.0  0.0  0.0  0.0  0.0  ...    0.000  0.000   \n",
       " 2    3    0  0.0  0.0  0.0  0.0  0.0  0.0  0.0  0.0  ...    0.000  0.000   \n",
       " 3    0    0  0.0  0.0  0.0  0.0  0.0  0.0  0.0  0.0  ...    0.000  0.000   \n",
       " 4    2    0  0.0  0.0  0.0  0.0  0.0  0.0  0.0  0.0  ...    0.000  0.000   \n",
       " \n",
       "     777    778    779    780    781    782    783    784  \n",
       " 0  0.61  0.611  0.612  0.613  0.614  0.615  0.616  0.617  \n",
       " 1  0.00  0.000  0.000  0.000  0.000  0.000  0.000  0.000  \n",
       " 2  0.00  0.000  0.000  0.000  0.000  0.000  0.000  0.000  \n",
       " 3  0.00  0.000  0.000  0.000  0.000  0.000  0.000  0.000  \n",
       " 4  0.00  0.000  0.000  0.000  0.000  0.000  0.000  0.000  \n",
       " \n",
       " [5 rows x 785 columns])"
      ]
     },
     "execution_count": 57,
     "metadata": {},
     "output_type": "execute_result"
    }
   ],
   "source": [
    "df.iloc[:,1:].head(), df.iloc[:,0].head(),df.head()"
   ]
  },
  {
   "cell_type": "code",
   "execution_count": 68,
   "metadata": {
    "ExecuteTime": {
     "end_time": "2018-12-24T04:23:38.900790Z",
     "start_time": "2018-12-24T04:23:33.733833Z"
    }
   },
   "outputs": [
    {
     "name": "stdout",
     "output_type": "stream",
     "text": [
      "Train on 1400 samples, validate on 601 samples\n",
      "Epoch 1/30\n",
      "1400/1400 [==============================] - 1s 838us/step - loss: 12.2006 - acc: 0.2314 - val_loss: 11.7001 - val_acc: 0.2679\n",
      "Epoch 2/30\n",
      "1400/1400 [==============================] - 0s 89us/step - loss: 11.1086 - acc: 0.3043 - val_loss: 11.4301 - val_acc: 0.2829\n",
      "Epoch 3/30\n",
      "1400/1400 [==============================] - 0s 91us/step - loss: 10.0605 - acc: 0.3679 - val_loss: 10.4144 - val_acc: 0.3394\n",
      "Epoch 4/30\n",
      "1400/1400 [==============================] - 0s 92us/step - loss: 8.9151 - acc: 0.4379 - val_loss: 9.4803 - val_acc: 0.3977\n",
      "Epoch 5/30\n",
      "1400/1400 [==============================] - 0s 82us/step - loss: 8.3168 - acc: 0.4707 - val_loss: 8.7397 - val_acc: 0.4493\n",
      "Epoch 6/30\n",
      "1400/1400 [==============================] - 0s 82us/step - loss: 7.6590 - acc: 0.5193 - val_loss: 8.5135 - val_acc: 0.4576\n",
      "Epoch 7/30\n",
      "1400/1400 [==============================] - 0s 84us/step - loss: 7.5364 - acc: 0.5279 - val_loss: 8.2459 - val_acc: 0.4825\n",
      "Epoch 8/30\n",
      "1400/1400 [==============================] - 0s 87us/step - loss: 7.3064 - acc: 0.5386 - val_loss: 8.1672 - val_acc: 0.4892\n",
      "Epoch 9/30\n",
      "1400/1400 [==============================] - 0s 87us/step - loss: 7.3316 - acc: 0.5371 - val_loss: 7.9363 - val_acc: 0.5058\n",
      "Epoch 10/30\n",
      "1400/1400 [==============================] - 0s 84us/step - loss: 7.2637 - acc: 0.5429 - val_loss: 7.8508 - val_acc: 0.5075\n",
      "Epoch 11/30\n",
      "1400/1400 [==============================] - 0s 88us/step - loss: 7.3381 - acc: 0.5379 - val_loss: 7.6404 - val_acc: 0.5175\n",
      "Epoch 12/30\n",
      "1400/1400 [==============================] - 0s 83us/step - loss: 6.9416 - acc: 0.5614 - val_loss: 7.9414 - val_acc: 0.5025\n",
      "Epoch 13/30\n",
      "1400/1400 [==============================] - 0s 83us/step - loss: 6.8244 - acc: 0.5714 - val_loss: 7.1087 - val_acc: 0.5507\n",
      "Epoch 14/30\n",
      "1400/1400 [==============================] - 0s 86us/step - loss: 6.2527 - acc: 0.6050 - val_loss: 7.0225 - val_acc: 0.5557\n",
      "Epoch 15/30\n",
      "1400/1400 [==============================] - 0s 85us/step - loss: 6.0424 - acc: 0.6200 - val_loss: 6.8379 - val_acc: 0.5641\n",
      "Epoch 16/30\n",
      "1400/1400 [==============================] - 0s 86us/step - loss: 5.8306 - acc: 0.6321 - val_loss: 6.7376 - val_acc: 0.5740\n",
      "Epoch 17/30\n",
      "1400/1400 [==============================] - 0s 82us/step - loss: 5.7035 - acc: 0.6414 - val_loss: 6.6120 - val_acc: 0.5824\n",
      "Epoch 18/30\n",
      "1400/1400 [==============================] - 0s 81us/step - loss: 5.6456 - acc: 0.6450 - val_loss: 6.3847 - val_acc: 0.5957\n",
      "Epoch 19/30\n",
      "1400/1400 [==============================] - 0s 83us/step - loss: 5.6307 - acc: 0.6464 - val_loss: 6.4581 - val_acc: 0.5957\n",
      "Epoch 20/30\n",
      "1400/1400 [==============================] - 0s 85us/step - loss: 5.5928 - acc: 0.6457 - val_loss: 6.3457 - val_acc: 0.5874\n",
      "Epoch 21/30\n",
      "1400/1400 [==============================] - 0s 86us/step - loss: 5.5030 - acc: 0.6550 - val_loss: 6.6876 - val_acc: 0.5774\n",
      "Epoch 22/30\n",
      "1400/1400 [==============================] - 0s 84us/step - loss: 5.5027 - acc: 0.6550 - val_loss: 6.4978 - val_acc: 0.5890\n",
      "Epoch 23/30\n",
      "1400/1400 [==============================] - 0s 88us/step - loss: 5.5600 - acc: 0.6514 - val_loss: 6.7473 - val_acc: 0.5724\n",
      "Epoch 24/30\n",
      "1400/1400 [==============================] - 0s 87us/step - loss: 5.4132 - acc: 0.6614 - val_loss: 6.2979 - val_acc: 0.5973\n",
      "Epoch 25/30\n",
      "1400/1400 [==============================] - 0s 82us/step - loss: 5.5142 - acc: 0.6550 - val_loss: 6.4252 - val_acc: 0.5923\n",
      "Epoch 26/30\n",
      "1400/1400 [==============================] - 0s 86us/step - loss: 5.5250 - acc: 0.6543 - val_loss: 6.3605 - val_acc: 0.5990\n",
      "Epoch 27/30\n",
      "1400/1400 [==============================] - 0s 82us/step - loss: 5.5861 - acc: 0.6486 - val_loss: 6.4256 - val_acc: 0.5940\n",
      "Epoch 28/30\n",
      "1400/1400 [==============================] - 0s 85us/step - loss: 5.4661 - acc: 0.6571 - val_loss: 6.7423 - val_acc: 0.5724\n",
      "Epoch 29/30\n",
      "1400/1400 [==============================] - 0s 84us/step - loss: 5.6264 - acc: 0.6486 - val_loss: 6.4104 - val_acc: 0.5973\n",
      "Epoch 30/30\n",
      "1400/1400 [==============================] - 0s 86us/step - loss: 5.5254 - acc: 0.6507 - val_loss: 6.2705 - val_acc: 0.6007\n"
     ]
    },
    {
     "data": {
      "text/plain": [
       "<keras.callbacks.History at 0x7fb088c74748>"
      ]
     },
     "execution_count": 68,
     "metadata": {},
     "output_type": "execute_result"
    }
   ],
   "source": [
    "# Create the model: model\n",
    "model = Sequential()\n",
    "\n",
    "# Add the first hidden layer\n",
    "model.add(Dense(50,activation='relu',input_shape=(784,)))\n",
    "\n",
    "# Add the second hidden layer\n",
    "model.add(Dense(50,activation='relu'))\n",
    "\n",
    "# Add the output layer\n",
    "model.add(Dense(10,activation='softmax'))\n",
    "\n",
    "# Compile the model\n",
    "model.compile(optimizer='adam',loss='categorical_crossentropy',metrics=['accuracy'])\n",
    "\n",
    "# Fit the model\n",
    "model.fit(X,y,validation_split=.3,epochs=30)"
   ]
  },
  {
   "cell_type": "markdown",
   "metadata": {},
   "source": [
    "You've done something pretty amazing. You should see better than 90% accuracy recognizing handwritten digits, even while using a small training set of only 1750 images!\n",
    "\n",
    "https://en.wikipedia.org/wiki/List_of_datasets_for_machine_learning_research\n",
    "\n",
    "<img src='./images/Deep Learning40.PNG' width=\"560\" height=\"315\">"
   ]
  },
  {
   "cell_type": "code",
   "execution_count": 65,
   "metadata": {
    "ExecuteTime": {
     "end_time": "2018-12-24T04:21:11.601708Z",
     "start_time": "2018-12-24T04:21:11.593256Z"
    }
   },
   "outputs": [
    {
     "name": "stdout",
     "output_type": "stream",
     "text": [
      "_________________________________________________________________\n",
      "Layer (type)                 Output Shape              Param #   \n",
      "=================================================================\n",
      "dense_78 (Dense)             (None, 50)                39250     \n",
      "_________________________________________________________________\n",
      "dense_79 (Dense)             (None, 50)                2550      \n",
      "_________________________________________________________________\n",
      "dense_80 (Dense)             (None, 10)                510       \n",
      "=================================================================\n",
      "Total params: 42,310\n",
      "Trainable params: 42,310\n",
      "Non-trainable params: 0\n",
      "_________________________________________________________________\n"
     ]
    }
   ],
   "source": [
    "model.summary()"
   ]
  },
  {
   "cell_type": "code",
   "execution_count": null,
   "metadata": {},
   "outputs": [],
   "source": []
  }
 ],
 "metadata": {
  "kernelspec": {
   "display_name": "Python 3",
   "language": "python",
   "name": "python3"
  },
  "language_info": {
   "codemirror_mode": {
    "name": "ipython",
    "version": 3
   },
   "file_extension": ".py",
   "mimetype": "text/x-python",
   "name": "python",
   "nbconvert_exporter": "python",
   "pygments_lexer": "ipython3",
   "version": "3.6.6"
  },
  "latex_envs": {
   "LaTeX_envs_menu_present": true,
   "autocomplete": true,
   "bibliofile": "biblio.bib",
   "cite_by": "apalike",
   "current_citInitial": 1,
   "eqLabelWithNumbers": true,
   "eqNumInitial": 1,
   "hotkeys": {
    "equation": "Ctrl-E",
    "itemize": "Ctrl-I"
   },
   "labels_anchors": false,
   "latex_user_defs": false,
   "report_style_numbering": false,
   "user_envs_cfg": false
  },
  "toc": {
   "nav_menu": {},
   "number_sections": true,
   "sideBar": true,
   "skip_h1_title": false,
   "title_cell": "Table of Contents",
   "title_sidebar": "Contents",
   "toc_cell": false,
   "toc_position": {
    "height": "calc(100% - 180px)",
    "left": "10px",
    "top": "150px",
    "width": "260.6px"
   },
   "toc_section_display": true,
   "toc_window_display": true
  },
  "varInspector": {
   "cols": {
    "lenName": 16,
    "lenType": 16,
    "lenVar": 40
   },
   "kernels_config": {
    "python": {
     "delete_cmd_postfix": "",
     "delete_cmd_prefix": "del ",
     "library": "var_list.py",
     "varRefreshCmd": "print(var_dic_list())"
    },
    "r": {
     "delete_cmd_postfix": ") ",
     "delete_cmd_prefix": "rm(",
     "library": "var_list.r",
     "varRefreshCmd": "cat(var_dic_list()) "
    }
   },
   "types_to_exclude": [
    "module",
    "function",
    "builtin_function_or_method",
    "instance",
    "_Feature"
   ],
   "window_display": false
  }
 },
 "nbformat": 4,
 "nbformat_minor": 2
}
